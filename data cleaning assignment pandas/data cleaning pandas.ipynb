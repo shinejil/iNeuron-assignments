{
 "cells": [
  {
   "cell_type": "code",
   "execution_count": 1,
   "id": "5d92193a",
   "metadata": {},
   "outputs": [
    {
     "name": "stdout",
     "output_type": "stream",
     "text": [
      "       From         To  FlightNumber              Airline  delay_1  delay_2  \\\n",
      "0    London      Paris         10045               KLM(!)     23.0     47.0   \n",
      "1    Madrid      Milan         10055    <Air France> (12)      NaN      NaN   \n",
      "2    London  Stockholm         10065  (British Airways. )     24.0     43.0   \n",
      "3  Budapest      Paris         10075       12. Air France     13.0      NaN   \n",
      "4  Brussels     London         10085          \"Swiss Air\"     67.0     32.0   \n",
      "\n",
      "   delay_3  \n",
      "0      NaN  \n",
      "1      NaN  \n",
      "2     87.0  \n",
      "3      NaN  \n",
      "4      NaN  \n"
     ]
    },
    {
     "name": "stderr",
     "output_type": "stream",
     "text": [
      "C:\\Users\\shine\\AppData\\Local\\Temp\\ipykernel_7368\\1049291810.py:28: FutureWarning: The default dtype for empty Series will be 'object' instead of 'float64' in a future version. Specify a dtype explicitly to silence this warning.\n",
      "  delays = df['RecentDelays'].apply(pd.Series)\n"
     ]
    }
   ],
   "source": [
    "import pandas as pd\n",
    "import numpy as np\n",
    "\n",
    "# Create the initial DataFrame\n",
    "df = pd.DataFrame({'From_To': ['LoNDon_paris', 'MAdrid_miLAN', 'londON_StockhOlm',\n",
    "                               'Budapest_PaRis', 'Brussels_londOn'],\n",
    "                   'FlightNumber': [10045, np.nan, 10065, np.nan, 10085],\n",
    "                   'RecentDelays': [[23, 47], [], [24, 43, 87], [13], [67, 32]],\n",
    "                   'Airline': ['KLM(!)', '<Air France> (12)', '(British Airways. )',\n",
    "                               '12. Air France', '\"Swiss Air\"']})\n",
    "\n",
    "# Task 1: Fill in missing FlightNumber values and convert the column to integer\n",
    "df['FlightNumber'] = df['FlightNumber'].interpolate().astype(int)\n",
    "\n",
    "# Task 2: Split the From_To column into separate columns\n",
    "temp_df = pd.DataFrame(df['From_To'].str.split('_', expand=True))\n",
    "temp_df.columns = ['From', 'To']\n",
    "\n",
    "# Task 3: Standardize the capitalization of city names in the temporary DataFrame\n",
    "temp_df['From'] = temp_df['From'].str.capitalize()\n",
    "temp_df['To'] = temp_df['To'].str.capitalize()\n",
    "\n",
    "# Task 4: Remove the From_To column from df and attach the temporary DataFrame\n",
    "df = df.drop('From_To', axis=1)\n",
    "df = pd.concat([temp_df, df], axis=1)\n",
    "\n",
    "# Task 5: Expand the RecentDelays column into separate columns\n",
    "delays = df['RecentDelays'].apply(pd.Series)\n",
    "delays.columns = ['delay_' + str(i+1) for i in range(delays.shape[1])]\n",
    "df = df.drop('RecentDelays', axis=1)\n",
    "df = pd.concat([df, delays], axis=1)\n",
    "\n",
    "# Print the final DataFrame\n",
    "print(df)\n"
   ]
  }
 ],
 "metadata": {
  "kernelspec": {
   "display_name": "environment",
   "language": "python",
   "name": "other-env"
  },
  "language_info": {
   "codemirror_mode": {
    "name": "ipython",
    "version": 3
   },
   "file_extension": ".py",
   "mimetype": "text/x-python",
   "name": "python",
   "nbconvert_exporter": "python",
   "pygments_lexer": "ipython3",
   "version": "3.9.7"
  }
 },
 "nbformat": 4,
 "nbformat_minor": 5
}
