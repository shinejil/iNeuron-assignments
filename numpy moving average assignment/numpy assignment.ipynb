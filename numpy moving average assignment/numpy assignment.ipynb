{
 "cells": [
  {
   "cell_type": "code",
   "execution_count": 1,
   "id": "2790e82e",
   "metadata": {},
   "outputs": [],
   "source": [
    "import numpy as np\n",
    "\n",
    "def vandermonde_matrix(input_vector, increasing=False):\n",
    "    n = len(input_vector)\n",
    "    if increasing:\n",
    "        matrix = np.column_stack([input_vector**(n-i-1) for i in range(n)])\n",
    "    else:\n",
    "        matrix = np.column_stack([input_vector**i for i in range(n-1, -1, -1)])\n",
    "    return matrix\n"
   ]
  },
  {
   "cell_type": "code",
   "execution_count": 2,
   "id": "bb23c417",
   "metadata": {},
   "outputs": [],
   "source": [
    "import numpy as np\n",
    "\n",
    "def moving_average(input_sequence, window_size):\n",
    "    sequence_length = len(input_sequence)\n",
    "    num_averages = sequence_length - window_size + 1\n",
    "    moving_averages = []\n",
    "    \n",
    "    for i in range(num_averages):\n",
    "        average = np.mean(input_sequence[i:i+window_size])\n",
    "        moving_averages.append(average)\n",
    "    \n",
    "    return moving_averages\n"
   ]
  },
  {
   "cell_type": "code",
   "execution_count": 3,
   "id": "f342dc68",
   "metadata": {},
   "outputs": [
    {
     "name": "stdout",
     "output_type": "stream",
     "text": [
      "[5.0, 4.666666666666667, 5.666666666666667, 6.666666666666667, 9.666666666666666, 28.666666666666668, 49.333333333333336, 72.66666666666667, 84.0, 93.33333333333333, 116.33333333333333]\n"
     ]
    }
   ],
   "source": [
    "input_sequence = [3, 5, 7, 2, 8, 10, 11, 65, 72, 81, 99, 100, 150]\n",
    "window_size = 3\n",
    "\n",
    "averages = moving_average(input_sequence, window_size)\n",
    "print(averages)\n"
   ]
  },
  {
   "cell_type": "code",
   "execution_count": null,
   "id": "a8b6c679",
   "metadata": {},
   "outputs": [],
   "source": []
  }
 ],
 "metadata": {
  "kernelspec": {
   "display_name": "environment",
   "language": "python",
   "name": "other-env"
  },
  "language_info": {
   "codemirror_mode": {
    "name": "ipython",
    "version": 3
   },
   "file_extension": ".py",
   "mimetype": "text/x-python",
   "name": "python",
   "nbconvert_exporter": "python",
   "pygments_lexer": "ipython3",
   "version": "3.9.7"
  }
 },
 "nbformat": 4,
 "nbformat_minor": 5
}
